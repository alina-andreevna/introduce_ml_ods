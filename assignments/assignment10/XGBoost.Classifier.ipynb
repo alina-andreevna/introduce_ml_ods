{
 "cells": [
  {
   "cell_type": "code",
   "execution_count": 1,
   "metadata": {
    "colab": {
     "base_uri": "https://localhost:8080/",
     "height": 122
    },
    "colab_type": "code",
    "executionInfo": {
     "elapsed": 26110,
     "status": "ok",
     "timestamp": 1588788502301,
     "user": {
      "displayName": "Алина Галичина",
      "photoUrl": "https://lh3.googleusercontent.com/a-/AOh14GjHv72jnAxIWJzZbdYmX17ll1bXq0oj0CrcwlRY=s64",
      "userId": "17830030295521241367"
     },
     "user_tz": -180
    },
    "id": "NT3r_mx1qJ58",
    "outputId": "2102ec99-1f79-48db-eac2-422a910828ae"
   },
   "outputs": [
    {
     "name": "stdout",
     "output_type": "stream",
     "text": [
      "Go to this URL in a browser: https://accounts.google.com/o/oauth2/auth?client_id=947318989803-6bn6qk8qdgf4n4g3pfee6491hc0brc4i.apps.googleusercontent.com&redirect_uri=urn%3aietf%3awg%3aoauth%3a2.0%3aoob&response_type=code&scope=email%20https%3a%2f%2fwww.googleapis.com%2fauth%2fdocs.test%20https%3a%2f%2fwww.googleapis.com%2fauth%2fdrive%20https%3a%2f%2fwww.googleapis.com%2fauth%2fdrive.photos.readonly%20https%3a%2f%2fwww.googleapis.com%2fauth%2fpeopleapi.readonly\n",
      "\n",
      "Enter your authorization code:\n",
      "··········\n",
      "Mounted at /content/drive\n"
     ]
    }
   ],
   "source": [
    "from google.colab import drive\n",
    "drive.mount('/content/drive')"
   ]
  },
  {
   "cell_type": "code",
   "execution_count": 0,
   "metadata": {
    "colab": {},
    "colab_type": "code",
    "id": "B_LG0QNvs2JA"
   },
   "outputs": [],
   "source": [
    "import os\n",
    "os.chdir('/content/drive/My Drive/Colab Notebooks/')"
   ]
  },
  {
   "cell_type": "code",
   "execution_count": 1,
   "metadata": {
    "colab": {},
    "colab_type": "code",
    "id": "x9NK-qR-s628"
   },
   "outputs": [],
   "source": [
    "import warnings\n",
    "warnings.filterwarnings('ignore')\n",
    "\n",
    "import numpy as np\n",
    "import pandas as pd\n",
    "from sklearn.model_selection import train_test_split, cross_val_score \n",
    "from sklearn.model_selection import StratifiedKFold\n",
    "from xgboost import XGBClassifier\n",
    "from sklearn.metrics import roc_auc_score"
   ]
  },
  {
   "cell_type": "code",
   "execution_count": 0,
   "metadata": {
    "colab": {},
    "colab_type": "code",
    "id": "cunicdADYZHU"
   },
   "outputs": [],
   "source": [
    "from package import MakeFeatures, make_predict\n",
    "\n",
    "R_STATE = 17"
   ]
  },
  {
   "cell_type": "code",
   "execution_count": 0,
   "metadata": {
    "colab": {},
    "colab_type": "code",
    "id": "ddEJZiCbYel6"
   },
   "outputs": [],
   "source": [
    "PATH_ANS = 'csv'\n",
    "\n",
    "if not os.path.exists(PATH_ANS):\n",
    "    os.mkdir(PATH_ANS)"
   ]
  },
  {
   "cell_type": "code",
   "execution_count": 0,
   "metadata": {
    "colab": {},
    "colab_type": "code",
    "id": "5wyn0oO7Yf--"
   },
   "outputs": [],
   "source": [
    "train = pd.read_csv('flight_delays_train.csv')\n",
    "test = pd.read_csv('flight_delays_test.csv')"
   ]
  },
  {
   "cell_type": "code",
   "execution_count": 7,
   "metadata": {
    "colab": {
     "base_uri": "https://localhost:8080/",
     "height": 204
    },
    "colab_type": "code",
    "executionInfo": {
     "elapsed": 588,
     "status": "ok",
     "timestamp": 1588788522079,
     "user": {
      "displayName": "Алина Галичина",
      "photoUrl": "https://lh3.googleusercontent.com/a-/AOh14GjHv72jnAxIWJzZbdYmX17ll1bXq0oj0CrcwlRY=s64",
      "userId": "17830030295521241367"
     },
     "user_tz": -180
    },
    "id": "4JULpJWIaHCs",
    "outputId": "9095f96c-b1d8-4289-e95d-d8c4f6f28ce7"
   },
   "outputs": [
    {
     "data": {
      "text/html": [
       "<div>\n",
       "<style scoped>\n",
       "    .dataframe tbody tr th:only-of-type {\n",
       "        vertical-align: middle;\n",
       "    }\n",
       "\n",
       "    .dataframe tbody tr th {\n",
       "        vertical-align: top;\n",
       "    }\n",
       "\n",
       "    .dataframe thead th {\n",
       "        text-align: right;\n",
       "    }\n",
       "</style>\n",
       "<table border=\"1\" class=\"dataframe\">\n",
       "  <thead>\n",
       "    <tr style=\"text-align: right;\">\n",
       "      <th></th>\n",
       "      <th>Month</th>\n",
       "      <th>DayofMonth</th>\n",
       "      <th>DayOfWeek</th>\n",
       "      <th>DepTime</th>\n",
       "      <th>UniqueCarrier</th>\n",
       "      <th>Origin</th>\n",
       "      <th>Dest</th>\n",
       "      <th>Distance</th>\n",
       "      <th>dep_delayed_15min</th>\n",
       "    </tr>\n",
       "  </thead>\n",
       "  <tbody>\n",
       "    <tr>\n",
       "      <th>0</th>\n",
       "      <td>c-8</td>\n",
       "      <td>c-21</td>\n",
       "      <td>c-7</td>\n",
       "      <td>1934</td>\n",
       "      <td>AA</td>\n",
       "      <td>ATL</td>\n",
       "      <td>DFW</td>\n",
       "      <td>732</td>\n",
       "      <td>N</td>\n",
       "    </tr>\n",
       "    <tr>\n",
       "      <th>1</th>\n",
       "      <td>c-4</td>\n",
       "      <td>c-20</td>\n",
       "      <td>c-3</td>\n",
       "      <td>1548</td>\n",
       "      <td>US</td>\n",
       "      <td>PIT</td>\n",
       "      <td>MCO</td>\n",
       "      <td>834</td>\n",
       "      <td>N</td>\n",
       "    </tr>\n",
       "    <tr>\n",
       "      <th>2</th>\n",
       "      <td>c-9</td>\n",
       "      <td>c-2</td>\n",
       "      <td>c-5</td>\n",
       "      <td>1422</td>\n",
       "      <td>XE</td>\n",
       "      <td>RDU</td>\n",
       "      <td>CLE</td>\n",
       "      <td>416</td>\n",
       "      <td>N</td>\n",
       "    </tr>\n",
       "    <tr>\n",
       "      <th>3</th>\n",
       "      <td>c-11</td>\n",
       "      <td>c-25</td>\n",
       "      <td>c-6</td>\n",
       "      <td>1015</td>\n",
       "      <td>OO</td>\n",
       "      <td>DEN</td>\n",
       "      <td>MEM</td>\n",
       "      <td>872</td>\n",
       "      <td>N</td>\n",
       "    </tr>\n",
       "    <tr>\n",
       "      <th>4</th>\n",
       "      <td>c-10</td>\n",
       "      <td>c-7</td>\n",
       "      <td>c-6</td>\n",
       "      <td>1828</td>\n",
       "      <td>WN</td>\n",
       "      <td>MDW</td>\n",
       "      <td>OMA</td>\n",
       "      <td>423</td>\n",
       "      <td>Y</td>\n",
       "    </tr>\n",
       "  </tbody>\n",
       "</table>\n",
       "</div>"
      ],
      "text/plain": [
       "  Month DayofMonth DayOfWeek  DepTime  ... Origin Dest Distance  dep_delayed_15min\n",
       "0   c-8       c-21       c-7     1934  ...    ATL  DFW      732                  N\n",
       "1   c-4       c-20       c-3     1548  ...    PIT  MCO      834                  N\n",
       "2   c-9        c-2       c-5     1422  ...    RDU  CLE      416                  N\n",
       "3  c-11       c-25       c-6     1015  ...    DEN  MEM      872                  N\n",
       "4  c-10        c-7       c-6     1828  ...    MDW  OMA      423                  Y\n",
       "\n",
       "[5 rows x 9 columns]"
      ]
     },
     "execution_count": 7,
     "metadata": {
      "tags": []
     },
     "output_type": "execute_result"
    }
   ],
   "source": [
    "train.head()"
   ]
  },
  {
   "cell_type": "code",
   "execution_count": 0,
   "metadata": {
    "colab": {},
    "colab_type": "code",
    "id": "viEC7NO2aIkW"
   },
   "outputs": [],
   "source": [
    "X_train, y_train = train.drop(['dep_delayed_15min'], axis=1), train['dep_delayed_15min'].map({'Y': 1, 'N': 0}).values"
   ]
  },
  {
   "cell_type": "code",
   "execution_count": 9,
   "metadata": {
    "colab": {
     "base_uri": "https://localhost:8080/",
     "height": 615
    },
    "colab_type": "code",
    "executionInfo": {
     "elapsed": 1438,
     "status": "ok",
     "timestamp": 1588788531801,
     "user": {
      "displayName": "Алина Галичина",
      "photoUrl": "https://lh3.googleusercontent.com/a-/AOh14GjHv72jnAxIWJzZbdYmX17ll1bXq0oj0CrcwlRY=s64",
      "userId": "17830030295521241367"
     },
     "user_tz": -180
    },
    "id": "XMIQpBYLabP0",
    "outputId": "c041afed-581f-42c3-cf11-884fcb9063f7"
   },
   "outputs": [
    {
     "name": "stdout",
     "output_type": "stream",
     "text": [
      "Seasons complete!\n",
      "IsWeekend complete!\n",
      "TimeOfDay complete!\n",
      "Day complete!\n",
      "DepFromCap complete!\n",
      "ArrivInCap complete!\n",
      "LogDist complete!\n",
      "UniqueCarrier dummies complete!\n",
      "Hour Minute feature complete!\n",
      "Seasons complete!\n",
      "IsWeekend complete!\n",
      "TimeOfDay complete!\n",
      "Day complete!\n",
      "DepFromCap complete!\n",
      "ArrivInCap complete!\n",
      "LogDist complete!\n",
      "UniqueCarrier dummies complete!\n",
      "Hour Minute feature complete!\n"
     ]
    },
    {
     "data": {
      "text/html": [
       "<div>\n",
       "<style scoped>\n",
       "    .dataframe tbody tr th:only-of-type {\n",
       "        vertical-align: middle;\n",
       "    }\n",
       "\n",
       "    .dataframe tbody tr th {\n",
       "        vertical-align: top;\n",
       "    }\n",
       "\n",
       "    .dataframe thead th {\n",
       "        text-align: right;\n",
       "    }\n",
       "</style>\n",
       "<table border=\"1\" class=\"dataframe\">\n",
       "  <thead>\n",
       "    <tr style=\"text-align: right;\">\n",
       "      <th></th>\n",
       "      <th>Seasons_cos</th>\n",
       "      <th>Seasons_sin</th>\n",
       "      <th>IsWeekend</th>\n",
       "      <th>Day</th>\n",
       "      <th>DepFromCap</th>\n",
       "      <th>ArrForCap</th>\n",
       "      <th>LogDist</th>\n",
       "      <th>Hour</th>\n",
       "      <th>Minute</th>\n",
       "      <th>AA</th>\n",
       "      <th>AQ</th>\n",
       "      <th>AS</th>\n",
       "      <th>B6</th>\n",
       "      <th>CO</th>\n",
       "      <th>DH</th>\n",
       "      <th>DL</th>\n",
       "      <th>EV</th>\n",
       "      <th>F9</th>\n",
       "      <th>FL</th>\n",
       "      <th>HA</th>\n",
       "      <th>HP</th>\n",
       "      <th>MQ</th>\n",
       "      <th>NW</th>\n",
       "      <th>OH</th>\n",
       "      <th>OO</th>\n",
       "      <th>TZ</th>\n",
       "      <th>UA</th>\n",
       "      <th>US</th>\n",
       "      <th>WN</th>\n",
       "      <th>XE</th>\n",
       "      <th>YV</th>\n",
       "      <th>day</th>\n",
       "      <th>evening</th>\n",
       "      <th>morning</th>\n",
       "      <th>night</th>\n",
       "    </tr>\n",
       "  </thead>\n",
       "  <tbody>\n",
       "    <tr>\n",
       "      <th>0</th>\n",
       "      <td>-5.000000e-01</td>\n",
       "      <td>-0.866025</td>\n",
       "      <td>1</td>\n",
       "      <td>21</td>\n",
       "      <td>0</td>\n",
       "      <td>0</td>\n",
       "      <td>6.595781</td>\n",
       "      <td>19</td>\n",
       "      <td>34</td>\n",
       "      <td>1</td>\n",
       "      <td>0</td>\n",
       "      <td>0</td>\n",
       "      <td>0</td>\n",
       "      <td>0</td>\n",
       "      <td>0</td>\n",
       "      <td>0</td>\n",
       "      <td>0</td>\n",
       "      <td>0</td>\n",
       "      <td>0</td>\n",
       "      <td>0</td>\n",
       "      <td>0</td>\n",
       "      <td>0</td>\n",
       "      <td>0</td>\n",
       "      <td>0</td>\n",
       "      <td>0</td>\n",
       "      <td>0</td>\n",
       "      <td>0</td>\n",
       "      <td>0</td>\n",
       "      <td>0</td>\n",
       "      <td>0</td>\n",
       "      <td>0</td>\n",
       "      <td>0</td>\n",
       "      <td>1</td>\n",
       "      <td>0</td>\n",
       "      <td>0</td>\n",
       "    </tr>\n",
       "    <tr>\n",
       "      <th>1</th>\n",
       "      <td>-5.000000e-01</td>\n",
       "      <td>0.866025</td>\n",
       "      <td>0</td>\n",
       "      <td>20</td>\n",
       "      <td>0</td>\n",
       "      <td>0</td>\n",
       "      <td>6.726233</td>\n",
       "      <td>15</td>\n",
       "      <td>48</td>\n",
       "      <td>0</td>\n",
       "      <td>0</td>\n",
       "      <td>0</td>\n",
       "      <td>0</td>\n",
       "      <td>0</td>\n",
       "      <td>0</td>\n",
       "      <td>0</td>\n",
       "      <td>0</td>\n",
       "      <td>0</td>\n",
       "      <td>0</td>\n",
       "      <td>0</td>\n",
       "      <td>0</td>\n",
       "      <td>0</td>\n",
       "      <td>0</td>\n",
       "      <td>0</td>\n",
       "      <td>0</td>\n",
       "      <td>0</td>\n",
       "      <td>0</td>\n",
       "      <td>1</td>\n",
       "      <td>0</td>\n",
       "      <td>0</td>\n",
       "      <td>0</td>\n",
       "      <td>1</td>\n",
       "      <td>0</td>\n",
       "      <td>0</td>\n",
       "      <td>0</td>\n",
       "    </tr>\n",
       "    <tr>\n",
       "      <th>2</th>\n",
       "      <td>-1.836970e-16</td>\n",
       "      <td>-1.000000</td>\n",
       "      <td>0</td>\n",
       "      <td>2</td>\n",
       "      <td>0</td>\n",
       "      <td>0</td>\n",
       "      <td>6.030685</td>\n",
       "      <td>14</td>\n",
       "      <td>22</td>\n",
       "      <td>0</td>\n",
       "      <td>0</td>\n",
       "      <td>0</td>\n",
       "      <td>0</td>\n",
       "      <td>0</td>\n",
       "      <td>0</td>\n",
       "      <td>0</td>\n",
       "      <td>0</td>\n",
       "      <td>0</td>\n",
       "      <td>0</td>\n",
       "      <td>0</td>\n",
       "      <td>0</td>\n",
       "      <td>0</td>\n",
       "      <td>0</td>\n",
       "      <td>0</td>\n",
       "      <td>0</td>\n",
       "      <td>0</td>\n",
       "      <td>0</td>\n",
       "      <td>0</td>\n",
       "      <td>0</td>\n",
       "      <td>1</td>\n",
       "      <td>0</td>\n",
       "      <td>1</td>\n",
       "      <td>0</td>\n",
       "      <td>0</td>\n",
       "      <td>0</td>\n",
       "    </tr>\n",
       "    <tr>\n",
       "      <th>3</th>\n",
       "      <td>8.660254e-01</td>\n",
       "      <td>-0.500000</td>\n",
       "      <td>1</td>\n",
       "      <td>25</td>\n",
       "      <td>0</td>\n",
       "      <td>0</td>\n",
       "      <td>6.770789</td>\n",
       "      <td>10</td>\n",
       "      <td>15</td>\n",
       "      <td>0</td>\n",
       "      <td>0</td>\n",
       "      <td>0</td>\n",
       "      <td>0</td>\n",
       "      <td>0</td>\n",
       "      <td>0</td>\n",
       "      <td>0</td>\n",
       "      <td>0</td>\n",
       "      <td>0</td>\n",
       "      <td>0</td>\n",
       "      <td>0</td>\n",
       "      <td>0</td>\n",
       "      <td>0</td>\n",
       "      <td>0</td>\n",
       "      <td>0</td>\n",
       "      <td>1</td>\n",
       "      <td>0</td>\n",
       "      <td>0</td>\n",
       "      <td>0</td>\n",
       "      <td>0</td>\n",
       "      <td>0</td>\n",
       "      <td>0</td>\n",
       "      <td>0</td>\n",
       "      <td>0</td>\n",
       "      <td>1</td>\n",
       "      <td>0</td>\n",
       "    </tr>\n",
       "    <tr>\n",
       "      <th>4</th>\n",
       "      <td>5.000000e-01</td>\n",
       "      <td>-0.866025</td>\n",
       "      <td>1</td>\n",
       "      <td>7</td>\n",
       "      <td>0</td>\n",
       "      <td>0</td>\n",
       "      <td>6.047372</td>\n",
       "      <td>18</td>\n",
       "      <td>28</td>\n",
       "      <td>0</td>\n",
       "      <td>0</td>\n",
       "      <td>0</td>\n",
       "      <td>0</td>\n",
       "      <td>0</td>\n",
       "      <td>0</td>\n",
       "      <td>0</td>\n",
       "      <td>0</td>\n",
       "      <td>0</td>\n",
       "      <td>0</td>\n",
       "      <td>0</td>\n",
       "      <td>0</td>\n",
       "      <td>0</td>\n",
       "      <td>0</td>\n",
       "      <td>0</td>\n",
       "      <td>0</td>\n",
       "      <td>0</td>\n",
       "      <td>0</td>\n",
       "      <td>0</td>\n",
       "      <td>1</td>\n",
       "      <td>0</td>\n",
       "      <td>0</td>\n",
       "      <td>0</td>\n",
       "      <td>1</td>\n",
       "      <td>0</td>\n",
       "      <td>0</td>\n",
       "    </tr>\n",
       "  </tbody>\n",
       "</table>\n",
       "</div>"
      ],
      "text/plain": [
       "    Seasons_cos  Seasons_sin  IsWeekend  Day  ...  day  evening  morning  night\n",
       "0 -5.000000e-01    -0.866025          1   21  ...    0        1        0      0\n",
       "1 -5.000000e-01     0.866025          0   20  ...    1        0        0      0\n",
       "2 -1.836970e-16    -1.000000          0    2  ...    1        0        0      0\n",
       "3  8.660254e-01    -0.500000          1   25  ...    0        0        1      0\n",
       "4  5.000000e-01    -0.866025          1    7  ...    0        1        0      0\n",
       "\n",
       "[5 rows x 35 columns]"
      ]
     },
     "execution_count": 9,
     "metadata": {
      "tags": []
     },
     "output_type": "execute_result"
    }
   ],
   "source": [
    "mf = MakeFeatures(is_weekend=1, \n",
    "                  seasons=1, \n",
    "                  day_of_month=1, \n",
    "                  dep_capital=1, \n",
    "                  arr_capital=1, \n",
    "                  route=0, \n",
    "                  log_dist=1, \n",
    "                  uc=1, \n",
    "                  time = 1,\n",
    "                  new_dep_time = 1,\n",
    "                  hour_imp = 0)\n",
    "mf.fit(X_train)\n",
    "\n",
    "X_train_new = mf.fit_transform(X_train)\n",
    "X_train_new.head()"
   ]
  },
  {
   "cell_type": "code",
   "execution_count": 0,
   "metadata": {
    "colab": {},
    "colab_type": "code",
    "id": "DE6FY_xgLYKb"
   },
   "outputs": [],
   "source": [
    "skf = StratifiedKFold(n_splits=3, shuffle=True, random_state=R_STATE)"
   ]
  },
  {
   "cell_type": "code",
   "execution_count": 12,
   "metadata": {
    "colab": {
     "base_uri": "https://localhost:8080/",
     "height": 68
    },
    "colab_type": "code",
    "executionInfo": {
     "elapsed": 20449,
     "status": "ok",
     "timestamp": 1588788619371,
     "user": {
      "displayName": "Алина Галичина",
      "photoUrl": "https://lh3.googleusercontent.com/a-/AOh14GjHv72jnAxIWJzZbdYmX17ll1bXq0oj0CrcwlRY=s64",
      "userId": "17830030295521241367"
     },
     "user_tz": -180
    },
    "id": "6PTCQvIOLSiJ",
    "outputId": "6a131bb5-fcf1-4172-dcec-ce25234a8da0"
   },
   "outputs": [
    {
     "name": "stderr",
     "output_type": "stream",
     "text": [
      "[Parallel(n_jobs=1)]: Using backend SequentialBackend with 1 concurrent workers.\n",
      "[Parallel(n_jobs=1)]: Done   3 out of   3 | elapsed:   19.6s finished\n"
     ]
    },
    {
     "data": {
      "text/plain": [
       "array([0.71239174, 0.71476971, 0.71396586])"
      ]
     },
     "execution_count": 12,
     "metadata": {
      "tags": []
     },
     "output_type": "execute_result"
    }
   ],
   "source": [
    "xgb_first = XGBClassifier(\n",
    "                        objective= 'binary:logistic'\n",
    "                        )\n",
    "cross_val_score(xgb_first, X=X_train_new.values, y=y_train, cv=skf, scoring=\"roc_auc\", verbose=1)"
   ]
  },
  {
   "cell_type": "code",
   "execution_count": 0,
   "metadata": {
    "colab": {},
    "colab_type": "code",
    "id": "MqkUlP03ab56"
   },
   "outputs": [],
   "source": [
    "xgb = XGBClassifier(learning_rate=0.1,\n",
    "                        max_depth=4,\n",
    "                        min_child_weight=2,\n",
    "                        n_estimators=1000,\n",
    "                        gamma=0.1,\n",
    "                        subsamle = 0.9,\n",
    "                        colsample_bytree = 0.5,\n",
    "                        reg_alpha = 1.4,\n",
    "                        objective= 'binary:logistic'\n",
    "                        )"
   ]
  },
  {
   "cell_type": "code",
   "execution_count": 14,
   "metadata": {
    "colab": {
     "base_uri": "https://localhost:8080/",
     "height": 68
    },
    "colab_type": "code",
    "executionInfo": {
     "elapsed": 161720,
     "status": "ok",
     "timestamp": 1588788796270,
     "user": {
      "displayName": "Алина Галичина",
      "photoUrl": "https://lh3.googleusercontent.com/a-/AOh14GjHv72jnAxIWJzZbdYmX17ll1bXq0oj0CrcwlRY=s64",
      "userId": "17830030295521241367"
     },
     "user_tz": -180
    },
    "id": "V0PFKIMvbW0F",
    "outputId": "e9e4450c-ea5f-4b98-a760-1091b09ad581"
   },
   "outputs": [
    {
     "name": "stderr",
     "output_type": "stream",
     "text": [
      "[Parallel(n_jobs=1)]: Using backend SequentialBackend with 1 concurrent workers.\n",
      "[Parallel(n_jobs=1)]: Done   3 out of   3 | elapsed:  2.7min finished\n"
     ]
    },
    {
     "data": {
      "text/plain": [
       "array([0.72723519, 0.73409327, 0.73189532])"
      ]
     },
     "execution_count": 14,
     "metadata": {
      "tags": []
     },
     "output_type": "execute_result"
    }
   ],
   "source": [
    "cross_val_score(xgb, X=X_train_new.values, y=y_train, cv=skf, scoring=\"roc_auc\", verbose=1)"
   ]
  },
  {
   "cell_type": "code",
   "execution_count": 0,
   "metadata": {
    "colab": {},
    "colab_type": "code",
    "id": "B9NsuLNwbvV2"
   },
   "outputs": [],
   "source": [
    "mf_test = MakeFeatures(is_weekend=1, \n",
    "                  seasons=1, \n",
    "                  day_of_month=1, \n",
    "                  dep_capital=1, \n",
    "                  arr_capital=1, \n",
    "                  route=0, \n",
    "                  log_dist=1, \n",
    "                  uc=1, \n",
    "                  time = 1,\n",
    "                  new_dep_time = 1,\n",
    "                  hour_imp = 0)\n",
    "mf_test.fit(test)\n",
    "\n",
    "X_test = mf_test.fit_transform(test)\n",
    "X_test.head()"
   ]
  },
  {
   "cell_type": "code",
   "execution_count": 0,
   "metadata": {
    "colab": {},
    "colab_type": "code",
    "id": "WW6rcSq5b0Xr"
   },
   "outputs": [],
   "source": [
    "X_test.drop(['9E'], axis=1, inplace=True)\n",
    "\n",
    "X_test['DH'] = 0\n",
    "X_test['HP'] = 0\n",
    "X_test['TZ'] = 0"
   ]
  },
  {
   "cell_type": "code",
   "execution_count": 0,
   "metadata": {
    "colab": {},
    "colab_type": "code",
    "id": "SrydAfECdU4g"
   },
   "outputs": [],
   "source": [
    "X_train_new.Day = X_train_new.Day.map(int)"
   ]
  },
  {
   "cell_type": "code",
   "execution_count": 0,
   "metadata": {
    "colab": {},
    "colab_type": "code",
    "id": "mIfCoxSKdWH9"
   },
   "outputs": [],
   "source": [
    "xgb.fit(X_train_new, y_train)"
   ]
  },
  {
   "cell_type": "code",
   "execution_count": 0,
   "metadata": {
    "colab": {},
    "colab_type": "code",
    "id": "gUIwpatsk2oT"
   },
   "outputs": [],
   "source": [
    "X_test.Day = X_test.Day.map(int)\n",
    "neworder = X_train_new.columns\n",
    "X_test_new = X_test.reindex(columns=neworder)"
   ]
  },
  {
   "cell_type": "code",
   "execution_count": 0,
   "metadata": {
    "colab": {},
    "colab_type": "code",
    "id": "EUyMO9JxlJCZ"
   },
   "outputs": [],
   "source": [
    "predict_kaggle = xgb.predict_proba(X_test_new)[:, 1]"
   ]
  },
  {
   "cell_type": "code",
   "execution_count": 0,
   "metadata": {
    "colab": {},
    "colab_type": "code",
    "id": "2aX8mxZsl-pF"
   },
   "outputs": [],
   "source": [
    "make_predict(predict_kaggle,'xgb')"
   ]
  },
  {
   "cell_type": "markdown",
   "metadata": {
    "colab_type": "text",
    "id": "iXnnHlV6Ly9J"
   },
   "source": [
    "# Use all dataset"
   ]
  },
  {
   "cell_type": "code",
   "execution_count": 15,
   "metadata": {
    "colab": {
     "base_uri": "https://localhost:8080/",
     "height": 712
    },
    "colab_type": "code",
    "executionInfo": {
     "elapsed": 2517,
     "status": "ok",
     "timestamp": 1588788798801,
     "user": {
      "displayName": "Алина Галичина",
      "photoUrl": "https://lh3.googleusercontent.com/a-/AOh14GjHv72jnAxIWJzZbdYmX17ll1bXq0oj0CrcwlRY=s64",
      "userId": "17830030295521241367"
     },
     "user_tz": -180
    },
    "id": "wMFGAFYTBRkz",
    "outputId": "3f9141d8-724f-4bde-d88c-81cd71034efa"
   },
   "outputs": [
    {
     "name": "stdout",
     "output_type": "stream",
     "text": [
      "Seasons complete!\n",
      "IsWeekend complete!\n",
      "TimeOfDay complete!\n",
      "Day complete!\n",
      "DepFromCap complete!\n",
      "ArrivInCap complete!\n",
      "LogDist complete!\n",
      "UniqueCarrier dummies complete!\n",
      "Hour Minute feature complete!\n",
      "Hour_sq-s feature complete!\n",
      "Route complete!\n",
      "Seasons complete!\n",
      "IsWeekend complete!\n",
      "TimeOfDay complete!\n",
      "Day complete!\n",
      "DepFromCap complete!\n",
      "ArrivInCap complete!\n",
      "LogDist complete!\n",
      "UniqueCarrier dummies complete!\n",
      "Hour Minute feature complete!\n",
      "Hour_sq-s feature complete!\n",
      "Route complete!\n"
     ]
    },
    {
     "data": {
      "text/html": [
       "<div>\n",
       "<style scoped>\n",
       "    .dataframe tbody tr th:only-of-type {\n",
       "        vertical-align: middle;\n",
       "    }\n",
       "\n",
       "    .dataframe tbody tr th {\n",
       "        vertical-align: top;\n",
       "    }\n",
       "\n",
       "    .dataframe thead th {\n",
       "        text-align: right;\n",
       "    }\n",
       "</style>\n",
       "<table border=\"1\" class=\"dataframe\">\n",
       "  <thead>\n",
       "    <tr style=\"text-align: right;\">\n",
       "      <th></th>\n",
       "      <th>Seasons_cos</th>\n",
       "      <th>Seasons_sin</th>\n",
       "      <th>IsWeekend</th>\n",
       "      <th>Day</th>\n",
       "      <th>DepFromCap</th>\n",
       "      <th>ArrForCap</th>\n",
       "      <th>LogDist</th>\n",
       "      <th>Hour</th>\n",
       "      <th>Minute</th>\n",
       "      <th>Hour_sq</th>\n",
       "      <th>Hour_sq2</th>\n",
       "      <th>AA</th>\n",
       "      <th>AQ</th>\n",
       "      <th>AS</th>\n",
       "      <th>B6</th>\n",
       "      <th>CO</th>\n",
       "      <th>DH</th>\n",
       "      <th>DL</th>\n",
       "      <th>EV</th>\n",
       "      <th>F9</th>\n",
       "      <th>FL</th>\n",
       "      <th>HA</th>\n",
       "      <th>HP</th>\n",
       "      <th>MQ</th>\n",
       "      <th>NW</th>\n",
       "      <th>OH</th>\n",
       "      <th>OO</th>\n",
       "      <th>TZ</th>\n",
       "      <th>UA</th>\n",
       "      <th>US</th>\n",
       "      <th>WN</th>\n",
       "      <th>XE</th>\n",
       "      <th>YV</th>\n",
       "      <th>ABE_Origin</th>\n",
       "      <th>ABI_Origin</th>\n",
       "      <th>ABQ_Origin</th>\n",
       "      <th>ABY_Origin</th>\n",
       "      <th>ACK_Origin</th>\n",
       "      <th>ACT_Origin</th>\n",
       "      <th>ACV_Origin</th>\n",
       "      <th>...</th>\n",
       "      <th>SMF_Dest</th>\n",
       "      <th>SMX_Dest</th>\n",
       "      <th>SNA_Dest</th>\n",
       "      <th>SOP_Dest</th>\n",
       "      <th>SPI_Dest</th>\n",
       "      <th>SPS_Dest</th>\n",
       "      <th>SRQ_Dest</th>\n",
       "      <th>STL_Dest</th>\n",
       "      <th>STT_Dest</th>\n",
       "      <th>STX_Dest</th>\n",
       "      <th>SUN_Dest</th>\n",
       "      <th>SWF_Dest</th>\n",
       "      <th>SYR_Dest</th>\n",
       "      <th>TEX_Dest</th>\n",
       "      <th>TLH_Dest</th>\n",
       "      <th>TOL_Dest</th>\n",
       "      <th>TPA_Dest</th>\n",
       "      <th>TRI_Dest</th>\n",
       "      <th>TTN_Dest</th>\n",
       "      <th>TUL_Dest</th>\n",
       "      <th>TUP_Dest</th>\n",
       "      <th>TUS_Dest</th>\n",
       "      <th>TVC_Dest</th>\n",
       "      <th>TWF_Dest</th>\n",
       "      <th>TXK_Dest</th>\n",
       "      <th>TYR_Dest</th>\n",
       "      <th>TYS_Dest</th>\n",
       "      <th>VCT_Dest</th>\n",
       "      <th>VIS_Dest</th>\n",
       "      <th>VLD_Dest</th>\n",
       "      <th>VPS_Dest</th>\n",
       "      <th>WRG_Dest</th>\n",
       "      <th>WYS_Dest</th>\n",
       "      <th>XNA_Dest</th>\n",
       "      <th>YAK_Dest</th>\n",
       "      <th>YUM_Dest</th>\n",
       "      <th>day</th>\n",
       "      <th>evening</th>\n",
       "      <th>morning</th>\n",
       "      <th>night</th>\n",
       "    </tr>\n",
       "  </thead>\n",
       "  <tbody>\n",
       "    <tr>\n",
       "      <th>0</th>\n",
       "      <td>-5.000000e-01</td>\n",
       "      <td>-0.866025</td>\n",
       "      <td>1</td>\n",
       "      <td>21</td>\n",
       "      <td>0</td>\n",
       "      <td>0</td>\n",
       "      <td>6.595781</td>\n",
       "      <td>19</td>\n",
       "      <td>34</td>\n",
       "      <td>361</td>\n",
       "      <td>130321</td>\n",
       "      <td>1</td>\n",
       "      <td>0</td>\n",
       "      <td>0</td>\n",
       "      <td>0</td>\n",
       "      <td>0</td>\n",
       "      <td>0</td>\n",
       "      <td>0</td>\n",
       "      <td>0</td>\n",
       "      <td>0</td>\n",
       "      <td>0</td>\n",
       "      <td>0</td>\n",
       "      <td>0</td>\n",
       "      <td>0</td>\n",
       "      <td>0</td>\n",
       "      <td>0</td>\n",
       "      <td>0</td>\n",
       "      <td>0</td>\n",
       "      <td>0</td>\n",
       "      <td>0</td>\n",
       "      <td>0</td>\n",
       "      <td>0</td>\n",
       "      <td>0</td>\n",
       "      <td>0</td>\n",
       "      <td>0</td>\n",
       "      <td>0</td>\n",
       "      <td>0</td>\n",
       "      <td>0</td>\n",
       "      <td>0</td>\n",
       "      <td>0</td>\n",
       "      <td>...</td>\n",
       "      <td>0</td>\n",
       "      <td>0</td>\n",
       "      <td>0</td>\n",
       "      <td>0</td>\n",
       "      <td>0</td>\n",
       "      <td>0</td>\n",
       "      <td>0</td>\n",
       "      <td>0</td>\n",
       "      <td>0</td>\n",
       "      <td>0</td>\n",
       "      <td>0</td>\n",
       "      <td>0</td>\n",
       "      <td>0</td>\n",
       "      <td>0</td>\n",
       "      <td>0</td>\n",
       "      <td>0</td>\n",
       "      <td>0</td>\n",
       "      <td>0</td>\n",
       "      <td>0</td>\n",
       "      <td>0</td>\n",
       "      <td>0</td>\n",
       "      <td>0</td>\n",
       "      <td>0</td>\n",
       "      <td>0</td>\n",
       "      <td>0</td>\n",
       "      <td>0</td>\n",
       "      <td>0</td>\n",
       "      <td>0</td>\n",
       "      <td>0</td>\n",
       "      <td>0</td>\n",
       "      <td>0</td>\n",
       "      <td>0</td>\n",
       "      <td>0</td>\n",
       "      <td>0</td>\n",
       "      <td>0</td>\n",
       "      <td>0</td>\n",
       "      <td>0</td>\n",
       "      <td>1</td>\n",
       "      <td>0</td>\n",
       "      <td>0</td>\n",
       "    </tr>\n",
       "    <tr>\n",
       "      <th>1</th>\n",
       "      <td>-5.000000e-01</td>\n",
       "      <td>0.866025</td>\n",
       "      <td>0</td>\n",
       "      <td>20</td>\n",
       "      <td>0</td>\n",
       "      <td>0</td>\n",
       "      <td>6.726233</td>\n",
       "      <td>15</td>\n",
       "      <td>48</td>\n",
       "      <td>225</td>\n",
       "      <td>50625</td>\n",
       "      <td>0</td>\n",
       "      <td>0</td>\n",
       "      <td>0</td>\n",
       "      <td>0</td>\n",
       "      <td>0</td>\n",
       "      <td>0</td>\n",
       "      <td>0</td>\n",
       "      <td>0</td>\n",
       "      <td>0</td>\n",
       "      <td>0</td>\n",
       "      <td>0</td>\n",
       "      <td>0</td>\n",
       "      <td>0</td>\n",
       "      <td>0</td>\n",
       "      <td>0</td>\n",
       "      <td>0</td>\n",
       "      <td>0</td>\n",
       "      <td>0</td>\n",
       "      <td>1</td>\n",
       "      <td>0</td>\n",
       "      <td>0</td>\n",
       "      <td>0</td>\n",
       "      <td>0</td>\n",
       "      <td>0</td>\n",
       "      <td>0</td>\n",
       "      <td>0</td>\n",
       "      <td>0</td>\n",
       "      <td>0</td>\n",
       "      <td>0</td>\n",
       "      <td>...</td>\n",
       "      <td>0</td>\n",
       "      <td>0</td>\n",
       "      <td>0</td>\n",
       "      <td>0</td>\n",
       "      <td>0</td>\n",
       "      <td>0</td>\n",
       "      <td>0</td>\n",
       "      <td>0</td>\n",
       "      <td>0</td>\n",
       "      <td>0</td>\n",
       "      <td>0</td>\n",
       "      <td>0</td>\n",
       "      <td>0</td>\n",
       "      <td>0</td>\n",
       "      <td>0</td>\n",
       "      <td>0</td>\n",
       "      <td>0</td>\n",
       "      <td>0</td>\n",
       "      <td>0</td>\n",
       "      <td>0</td>\n",
       "      <td>0</td>\n",
       "      <td>0</td>\n",
       "      <td>0</td>\n",
       "      <td>0</td>\n",
       "      <td>0</td>\n",
       "      <td>0</td>\n",
       "      <td>0</td>\n",
       "      <td>0</td>\n",
       "      <td>0</td>\n",
       "      <td>0</td>\n",
       "      <td>0</td>\n",
       "      <td>0</td>\n",
       "      <td>0</td>\n",
       "      <td>0</td>\n",
       "      <td>0</td>\n",
       "      <td>0</td>\n",
       "      <td>1</td>\n",
       "      <td>0</td>\n",
       "      <td>0</td>\n",
       "      <td>0</td>\n",
       "    </tr>\n",
       "    <tr>\n",
       "      <th>2</th>\n",
       "      <td>-1.836970e-16</td>\n",
       "      <td>-1.000000</td>\n",
       "      <td>0</td>\n",
       "      <td>2</td>\n",
       "      <td>0</td>\n",
       "      <td>0</td>\n",
       "      <td>6.030685</td>\n",
       "      <td>14</td>\n",
       "      <td>22</td>\n",
       "      <td>196</td>\n",
       "      <td>38416</td>\n",
       "      <td>0</td>\n",
       "      <td>0</td>\n",
       "      <td>0</td>\n",
       "      <td>0</td>\n",
       "      <td>0</td>\n",
       "      <td>0</td>\n",
       "      <td>0</td>\n",
       "      <td>0</td>\n",
       "      <td>0</td>\n",
       "      <td>0</td>\n",
       "      <td>0</td>\n",
       "      <td>0</td>\n",
       "      <td>0</td>\n",
       "      <td>0</td>\n",
       "      <td>0</td>\n",
       "      <td>0</td>\n",
       "      <td>0</td>\n",
       "      <td>0</td>\n",
       "      <td>0</td>\n",
       "      <td>0</td>\n",
       "      <td>1</td>\n",
       "      <td>0</td>\n",
       "      <td>0</td>\n",
       "      <td>0</td>\n",
       "      <td>0</td>\n",
       "      <td>0</td>\n",
       "      <td>0</td>\n",
       "      <td>0</td>\n",
       "      <td>0</td>\n",
       "      <td>...</td>\n",
       "      <td>0</td>\n",
       "      <td>0</td>\n",
       "      <td>0</td>\n",
       "      <td>0</td>\n",
       "      <td>0</td>\n",
       "      <td>0</td>\n",
       "      <td>0</td>\n",
       "      <td>0</td>\n",
       "      <td>0</td>\n",
       "      <td>0</td>\n",
       "      <td>0</td>\n",
       "      <td>0</td>\n",
       "      <td>0</td>\n",
       "      <td>0</td>\n",
       "      <td>0</td>\n",
       "      <td>0</td>\n",
       "      <td>0</td>\n",
       "      <td>0</td>\n",
       "      <td>0</td>\n",
       "      <td>0</td>\n",
       "      <td>0</td>\n",
       "      <td>0</td>\n",
       "      <td>0</td>\n",
       "      <td>0</td>\n",
       "      <td>0</td>\n",
       "      <td>0</td>\n",
       "      <td>0</td>\n",
       "      <td>0</td>\n",
       "      <td>0</td>\n",
       "      <td>0</td>\n",
       "      <td>0</td>\n",
       "      <td>0</td>\n",
       "      <td>0</td>\n",
       "      <td>0</td>\n",
       "      <td>0</td>\n",
       "      <td>0</td>\n",
       "      <td>1</td>\n",
       "      <td>0</td>\n",
       "      <td>0</td>\n",
       "      <td>0</td>\n",
       "    </tr>\n",
       "    <tr>\n",
       "      <th>3</th>\n",
       "      <td>8.660254e-01</td>\n",
       "      <td>-0.500000</td>\n",
       "      <td>1</td>\n",
       "      <td>25</td>\n",
       "      <td>0</td>\n",
       "      <td>0</td>\n",
       "      <td>6.770789</td>\n",
       "      <td>10</td>\n",
       "      <td>15</td>\n",
       "      <td>100</td>\n",
       "      <td>10000</td>\n",
       "      <td>0</td>\n",
       "      <td>0</td>\n",
       "      <td>0</td>\n",
       "      <td>0</td>\n",
       "      <td>0</td>\n",
       "      <td>0</td>\n",
       "      <td>0</td>\n",
       "      <td>0</td>\n",
       "      <td>0</td>\n",
       "      <td>0</td>\n",
       "      <td>0</td>\n",
       "      <td>0</td>\n",
       "      <td>0</td>\n",
       "      <td>0</td>\n",
       "      <td>0</td>\n",
       "      <td>1</td>\n",
       "      <td>0</td>\n",
       "      <td>0</td>\n",
       "      <td>0</td>\n",
       "      <td>0</td>\n",
       "      <td>0</td>\n",
       "      <td>0</td>\n",
       "      <td>0</td>\n",
       "      <td>0</td>\n",
       "      <td>0</td>\n",
       "      <td>0</td>\n",
       "      <td>0</td>\n",
       "      <td>0</td>\n",
       "      <td>0</td>\n",
       "      <td>...</td>\n",
       "      <td>0</td>\n",
       "      <td>0</td>\n",
       "      <td>0</td>\n",
       "      <td>0</td>\n",
       "      <td>0</td>\n",
       "      <td>0</td>\n",
       "      <td>0</td>\n",
       "      <td>0</td>\n",
       "      <td>0</td>\n",
       "      <td>0</td>\n",
       "      <td>0</td>\n",
       "      <td>0</td>\n",
       "      <td>0</td>\n",
       "      <td>0</td>\n",
       "      <td>0</td>\n",
       "      <td>0</td>\n",
       "      <td>0</td>\n",
       "      <td>0</td>\n",
       "      <td>0</td>\n",
       "      <td>0</td>\n",
       "      <td>0</td>\n",
       "      <td>0</td>\n",
       "      <td>0</td>\n",
       "      <td>0</td>\n",
       "      <td>0</td>\n",
       "      <td>0</td>\n",
       "      <td>0</td>\n",
       "      <td>0</td>\n",
       "      <td>0</td>\n",
       "      <td>0</td>\n",
       "      <td>0</td>\n",
       "      <td>0</td>\n",
       "      <td>0</td>\n",
       "      <td>0</td>\n",
       "      <td>0</td>\n",
       "      <td>0</td>\n",
       "      <td>0</td>\n",
       "      <td>0</td>\n",
       "      <td>1</td>\n",
       "      <td>0</td>\n",
       "    </tr>\n",
       "    <tr>\n",
       "      <th>4</th>\n",
       "      <td>5.000000e-01</td>\n",
       "      <td>-0.866025</td>\n",
       "      <td>1</td>\n",
       "      <td>7</td>\n",
       "      <td>0</td>\n",
       "      <td>0</td>\n",
       "      <td>6.047372</td>\n",
       "      <td>18</td>\n",
       "      <td>28</td>\n",
       "      <td>324</td>\n",
       "      <td>104976</td>\n",
       "      <td>0</td>\n",
       "      <td>0</td>\n",
       "      <td>0</td>\n",
       "      <td>0</td>\n",
       "      <td>0</td>\n",
       "      <td>0</td>\n",
       "      <td>0</td>\n",
       "      <td>0</td>\n",
       "      <td>0</td>\n",
       "      <td>0</td>\n",
       "      <td>0</td>\n",
       "      <td>0</td>\n",
       "      <td>0</td>\n",
       "      <td>0</td>\n",
       "      <td>0</td>\n",
       "      <td>0</td>\n",
       "      <td>0</td>\n",
       "      <td>0</td>\n",
       "      <td>0</td>\n",
       "      <td>1</td>\n",
       "      <td>0</td>\n",
       "      <td>0</td>\n",
       "      <td>0</td>\n",
       "      <td>0</td>\n",
       "      <td>0</td>\n",
       "      <td>0</td>\n",
       "      <td>0</td>\n",
       "      <td>0</td>\n",
       "      <td>0</td>\n",
       "      <td>...</td>\n",
       "      <td>0</td>\n",
       "      <td>0</td>\n",
       "      <td>0</td>\n",
       "      <td>0</td>\n",
       "      <td>0</td>\n",
       "      <td>0</td>\n",
       "      <td>0</td>\n",
       "      <td>0</td>\n",
       "      <td>0</td>\n",
       "      <td>0</td>\n",
       "      <td>0</td>\n",
       "      <td>0</td>\n",
       "      <td>0</td>\n",
       "      <td>0</td>\n",
       "      <td>0</td>\n",
       "      <td>0</td>\n",
       "      <td>0</td>\n",
       "      <td>0</td>\n",
       "      <td>0</td>\n",
       "      <td>0</td>\n",
       "      <td>0</td>\n",
       "      <td>0</td>\n",
       "      <td>0</td>\n",
       "      <td>0</td>\n",
       "      <td>0</td>\n",
       "      <td>0</td>\n",
       "      <td>0</td>\n",
       "      <td>0</td>\n",
       "      <td>0</td>\n",
       "      <td>0</td>\n",
       "      <td>0</td>\n",
       "      <td>0</td>\n",
       "      <td>0</td>\n",
       "      <td>0</td>\n",
       "      <td>0</td>\n",
       "      <td>0</td>\n",
       "      <td>0</td>\n",
       "      <td>1</td>\n",
       "      <td>0</td>\n",
       "      <td>0</td>\n",
       "    </tr>\n",
       "  </tbody>\n",
       "</table>\n",
       "<p>5 rows × 615 columns</p>\n",
       "</div>"
      ],
      "text/plain": [
       "    Seasons_cos  Seasons_sin  IsWeekend  Day  ...  day  evening  morning  night\n",
       "0 -5.000000e-01    -0.866025          1   21  ...    0        1        0      0\n",
       "1 -5.000000e-01     0.866025          0   20  ...    1        0        0      0\n",
       "2 -1.836970e-16    -1.000000          0    2  ...    1        0        0      0\n",
       "3  8.660254e-01    -0.500000          1   25  ...    0        0        1      0\n",
       "4  5.000000e-01    -0.866025          1    7  ...    0        1        0      0\n",
       "\n",
       "[5 rows x 615 columns]"
      ]
     },
     "execution_count": 15,
     "metadata": {
      "tags": []
     },
     "output_type": "execute_result"
    }
   ],
   "source": [
    "mf = MakeFeatures(is_weekend=1, \n",
    "                  seasons=1, \n",
    "                  day_of_month=1, \n",
    "                  dep_capital=1, \n",
    "                  arr_capital=1, \n",
    "                  route=1, \n",
    "                  log_dist=1, \n",
    "                  uc=1, \n",
    "                  time = 1,\n",
    "                  new_dep_time = 1,\n",
    "                  hour_imp = 1)\n",
    "mf.fit(X_train)\n",
    "\n",
    "X_train_new = mf.fit_transform(X_train)\n",
    "X_train_new.head()"
   ]
  },
  {
   "cell_type": "code",
   "execution_count": 16,
   "metadata": {
    "colab": {
     "base_uri": "https://localhost:8080/",
     "height": 68
    },
    "colab_type": "code",
    "executionInfo": {
     "elapsed": 259558,
     "status": "ok",
     "timestamp": 1588789061086,
     "user": {
      "displayName": "Алина Галичина",
      "photoUrl": "https://lh3.googleusercontent.com/a-/AOh14GjHv72jnAxIWJzZbdYmX17ll1bXq0oj0CrcwlRY=s64",
      "userId": "17830030295521241367"
     },
     "user_tz": -180
    },
    "id": "g47Ccvg1Bi-t",
    "outputId": "ce4dfee4-9a24-4198-bf62-2bc055682dbb"
   },
   "outputs": [
    {
     "name": "stderr",
     "output_type": "stream",
     "text": [
      "[Parallel(n_jobs=1)]: Using backend SequentialBackend with 1 concurrent workers.\n",
      "[Parallel(n_jobs=1)]: Done   3 out of   3 | elapsed:  4.3min finished\n"
     ]
    },
    {
     "data": {
      "text/plain": [
       "array([0.71732365, 0.72188616, 0.72212846])"
      ]
     },
     "execution_count": 16,
     "metadata": {
      "tags": []
     },
     "output_type": "execute_result"
    }
   ],
   "source": [
    "cross_val_score(xgb_first, X=X_train_new.values, y=y_train, cv=skf, scoring=\"roc_auc\", verbose=1)"
   ]
  },
  {
   "cell_type": "code",
   "execution_count": 17,
   "metadata": {
    "colab": {
     "base_uri": "https://localhost:8080/",
     "height": 68
    },
    "colab_type": "code",
    "executionInfo": {
     "elapsed": 2032611,
     "status": "ok",
     "timestamp": 1588790834164,
     "user": {
      "displayName": "Алина Галичина",
      "photoUrl": "https://lh3.googleusercontent.com/a-/AOh14GjHv72jnAxIWJzZbdYmX17ll1bXq0oj0CrcwlRY=s64",
      "userId": "17830030295521241367"
     },
     "user_tz": -180
    },
    "id": "UTmATCrgFAKr",
    "outputId": "e1ee2bd1-40a2-4b42-f4a2-9dc8e5139d0a"
   },
   "outputs": [
    {
     "name": "stderr",
     "output_type": "stream",
     "text": [
      "[Parallel(n_jobs=1)]: Using backend SequentialBackend with 1 concurrent workers.\n",
      "[Parallel(n_jobs=1)]: Done   3 out of   3 | elapsed: 29.5min finished\n"
     ]
    },
    {
     "data": {
      "text/plain": [
       "array([0.73809499, 0.74414352, 0.74085482])"
      ]
     },
     "execution_count": 17,
     "metadata": {
      "tags": []
     },
     "output_type": "execute_result"
    }
   ],
   "source": [
    "cross_val_score(xgb, X=X_train_new.values, y=y_train, cv=skf, scoring=\"roc_auc\", verbose=1)"
   ]
  },
  {
   "cell_type": "code",
   "execution_count": 23,
   "metadata": {
    "colab": {
     "base_uri": "https://localhost:8080/",
     "height": 102
    },
    "colab_type": "code",
    "executionInfo": {
     "elapsed": 717,
     "status": "ok",
     "timestamp": 1588790907925,
     "user": {
      "displayName": "Алина Галичина",
      "photoUrl": "https://lh3.googleusercontent.com/a-/AOh14GjHv72jnAxIWJzZbdYmX17ll1bXq0oj0CrcwlRY=s64",
      "userId": "17830030295521241367"
     },
     "user_tz": -180
    },
    "id": "2l2RXi7iUNPM",
    "outputId": "ca1b32c8-708a-451c-a356-5b6457b2593f"
   },
   "outputs": [
    {
     "name": "stdout",
     "output_type": "stream",
     "text": [
      "<class 'pandas.core.frame.DataFrame'>\n",
      "RangeIndex: 100000 entries, 0 to 99999\n",
      "Columns: 615 entries, Seasons_cos to night\n",
      "dtypes: Sparse[int64, 0](578), float64(3), int64(8), uint8(26)\n",
      "memory usage: 13.2 MB\n"
     ]
    }
   ],
   "source": [
    "X_train_new.info()"
   ]
  },
  {
   "cell_type": "code",
   "execution_count": 24,
   "metadata": {
    "colab": {
     "base_uri": "https://localhost:8080/",
     "height": 136
    },
    "colab_type": "code",
    "executionInfo": {
     "elapsed": 882037,
     "status": "ok",
     "timestamp": 1588791811332,
     "user": {
      "displayName": "Алина Галичина",
      "photoUrl": "https://lh3.googleusercontent.com/a-/AOh14GjHv72jnAxIWJzZbdYmX17ll1bXq0oj0CrcwlRY=s64",
      "userId": "17830030295521241367"
     },
     "user_tz": -180
    },
    "id": "s_fTIpcVOkId",
    "outputId": "a621a2cd-2c2f-49ad-ba82-83e39e0aac2c"
   },
   "outputs": [
    {
     "data": {
      "text/plain": [
       "XGBClassifier(base_score=0.5, booster='gbtree', colsample_bylevel=1,\n",
       "              colsample_bynode=1, colsample_bytree=0.5, gamma=0.1,\n",
       "              learning_rate=0.1, max_delta_step=0, max_depth=4,\n",
       "              min_child_weight=2, missing=None, n_estimators=1000, n_jobs=1,\n",
       "              nthread=None, objective='binary:logistic', random_state=0,\n",
       "              reg_alpha=1.4, reg_lambda=1, scale_pos_weight=1, seed=None,\n",
       "              silent=None, subsamle=0.9, subsample=1, verbosity=1)"
      ]
     },
     "execution_count": 24,
     "metadata": {
      "tags": []
     },
     "output_type": "execute_result"
    }
   ],
   "source": [
    "xgb.fit(X_train_new.values, y_train)"
   ]
  },
  {
   "cell_type": "code",
   "execution_count": 25,
   "metadata": {
    "colab": {
     "base_uri": "https://localhost:8080/",
     "height": 391
    },
    "colab_type": "code",
    "executionInfo": {
     "elapsed": 2519,
     "status": "ok",
     "timestamp": 1588791813866,
     "user": {
      "displayName": "Алина Галичина",
      "photoUrl": "https://lh3.googleusercontent.com/a-/AOh14GjHv72jnAxIWJzZbdYmX17ll1bXq0oj0CrcwlRY=s64",
      "userId": "17830030295521241367"
     },
     "user_tz": -180
    },
    "id": "9i2opdRLMC45",
    "outputId": "06fbb705-769f-4387-9713-1a77796d415f"
   },
   "outputs": [
    {
     "name": "stdout",
     "output_type": "stream",
     "text": [
      "Seasons complete!\n",
      "IsWeekend complete!\n",
      "TimeOfDay complete!\n",
      "Day complete!\n",
      "DepFromCap complete!\n",
      "ArrivInCap complete!\n",
      "LogDist complete!\n",
      "UniqueCarrier dummies complete!\n",
      "Hour Minute feature complete!\n",
      "Hour_sq-s feature complete!\n",
      "Route complete!\n",
      "Seasons complete!\n",
      "IsWeekend complete!\n",
      "TimeOfDay complete!\n",
      "Day complete!\n",
      "DepFromCap complete!\n",
      "ArrivInCap complete!\n",
      "LogDist complete!\n",
      "UniqueCarrier dummies complete!\n",
      "Hour Minute feature complete!\n",
      "Hour_sq-s feature complete!\n",
      "Route complete!\n"
     ]
    }
   ],
   "source": [
    "mf_test = MakeFeatures(is_weekend=1, \n",
    "                  seasons=1, \n",
    "                  day_of_month=1, \n",
    "                  dep_capital=1, \n",
    "                  arr_capital=1, \n",
    "                  route=1, \n",
    "                  log_dist=1, \n",
    "                  uc=1, \n",
    "                  time = 1,\n",
    "                  new_dep_time = 1,\n",
    "                  hour_imp = 1)\n",
    "mf_test.fit(test)\n",
    "\n",
    "X_test = mf_test.fit_transform(test)\n",
    "X_test.head()\n",
    "\n",
    "X_test.drop(['9E'], axis=1, inplace=True)\n",
    "\n",
    "X_test['DH'] = 0\n",
    "X_test['HP'] = 0\n",
    "X_test['TZ'] = 0\n",
    "\n",
    "X_test.Day = X_test.Day.map(int)\n",
    "neworder = X_train_new.columns\n",
    "X_test_new = X_test.reindex(columns=neworder)"
   ]
  },
  {
   "cell_type": "code",
   "execution_count": 0,
   "metadata": {
    "colab": {},
    "colab_type": "code",
    "id": "-aI9JGEDOued"
   },
   "outputs": [],
   "source": [
    "predict_kaggle = xgb.predict_proba(X_test_new.values)[:, 1]"
   ]
  },
  {
   "cell_type": "code",
   "execution_count": 28,
   "metadata": {
    "colab": {
     "base_uri": "https://localhost:8080/",
     "height": 51
    },
    "colab_type": "code",
    "executionInfo": {
     "elapsed": 1063,
     "status": "ok",
     "timestamp": 1588792213531,
     "user": {
      "displayName": "Алина Галичина",
      "photoUrl": "https://lh3.googleusercontent.com/a-/AOh14GjHv72jnAxIWJzZbdYmX17ll1bXq0oj0CrcwlRY=s64",
      "userId": "17830030295521241367"
     },
     "user_tz": -180
    },
    "id": "m36oG9dNO1ld",
    "outputId": "6644d6ee-343c-436b-f00b-c51502607d7a"
   },
   "outputs": [
    {
     "data": {
      "text/plain": [
       "array([0.03998995, 0.05900993, 0.03185375, ..., 0.21175021, 0.11470821,\n",
       "       0.0861673 ], dtype=float32)"
      ]
     },
     "execution_count": 28,
     "metadata": {
      "tags": []
     },
     "output_type": "execute_result"
    }
   ],
   "source": [
    "predict_kaggle"
   ]
  },
  {
   "cell_type": "code",
   "execution_count": 0,
   "metadata": {
    "colab": {},
    "colab_type": "code",
    "id": "49is87gOOw6g"
   },
   "outputs": [],
   "source": [
    "make_predict(predict_kaggle,'xgb_all_data')"
   ]
  },
  {
   "cell_type": "code",
   "execution_count": 0,
   "metadata": {
    "colab": {},
    "colab_type": "code",
    "id": "EdHnleRQZ30j"
   },
   "outputs": [],
   "source": []
  }
 ],
 "metadata": {
  "colab": {
   "authorship_tag": "ABX9TyOim62L+Sbi9RSVl65Ilper",
   "collapsed_sections": [],
   "name": "XGBoost.Classifier.ipynb",
   "provenance": []
  },
  "kernelspec": {
   "display_name": "Python 3",
   "language": "python",
   "name": "python3"
  },
  "language_info": {
   "codemirror_mode": {
    "name": "ipython",
    "version": 3
   },
   "file_extension": ".py",
   "mimetype": "text/x-python",
   "name": "python",
   "nbconvert_exporter": "python",
   "pygments_lexer": "ipython3",
   "version": "3.7.4"
  }
 },
 "nbformat": 4,
 "nbformat_minor": 1
}
